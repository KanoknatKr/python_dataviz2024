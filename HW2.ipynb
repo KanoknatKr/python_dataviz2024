{
  "nbformat": 4,
  "nbformat_minor": 0,
  "metadata": {
    "colab": {
      "provenance": [],
      "authorship_tag": "ABX9TyPYwqZHXzsIJYAUlrO2MTGO",
      "include_colab_link": true
    },
    "kernelspec": {
      "name": "python3",
      "display_name": "Python 3"
    },
    "language_info": {
      "name": "python"
    }
  },
  "cells": [
    {
      "cell_type": "markdown",
      "metadata": {
        "id": "view-in-github",
        "colab_type": "text"
      },
      "source": [
        "<a href=\"https://colab.research.google.com/github/KanoknatKr/python_dataviz2024/blob/main/HW2.ipynb\" target=\"_parent\"><img src=\"https://colab.research.google.com/assets/colab-badge.svg\" alt=\"Open In Colab\"/></a>"
      ]
    },
    {
      "cell_type": "markdown",
      "source": [
        "# HW2\n",
        "วนลูปหาช่วงเวลาเป็นวินาทีที่ห่างกันระหว่าง time1 และ time2 ต่อไปนี้\n",
        "18:09:10 - 18:25:10\n",
        "13:38:39 - 23:54:39\n",
        "16:49:58 - 18:05:58\n",
        "21:49:10 - 22:24:10\n",
        "08:52:21 - 09:25:21\n",
        "06:56:26 - 07:49:26\n",
        "12:08:05 - 12:43:05\n",
        "01:48:38 - 07:18:38\n",
        "08:51:21 - 10:17:21\n",
        "17:05:17 - 18:09:17"
      ],
      "metadata": {
        "id": "7pA5Tdv68oHv"
      }
    },
    {
      "cell_type": "code",
      "execution_count": 3,
      "metadata": {
        "id": "D5WGoTa27wJO"
      },
      "outputs": [],
      "source": [
        "from datetime import datetime\n",
        "time_pairs = [\n",
        "    (\"18:09:10\", \"18:25:10\"),\n",
        "    (\"13:38:39\", \"23:54:39\"),\n",
        "    (\"16:49:58\", \"18:05:58\"),\n",
        "    (\"21:49:10\", \"22:24:10\"),\n",
        "    (\"08:52:21\", \"09:25:21\"),\n",
        "    (\"06:56:26\", \"07:49:26\"),\n",
        "    (\"12:08:05\", \"12:43:05\"),\n",
        "    (\"01:48:38\", \"07:18:38\"),\n",
        "    (\"08:51:21\", \"10:17:21\"),\n",
        "    (\"17:05:17\", \"18:09:17\")\n",
        "]"
      ]
    },
    {
      "cell_type": "code",
      "source": [
        "for time1, time2 in time_pairs:\n",
        "    # Convert string time to datetime object\n",
        "    time1_dt = datetime.strptime(time1, \"%H:%M:%S\")\n",
        "    time2_dt = datetime.strptime(time2, \"%H:%M:%S\")\n",
        "\n",
        "    # Calculate the difference in seconds\n",
        "    time_diff = (time2_dt - time1_dt).seconds\n",
        "\n",
        "    # Print the result\n",
        "    print(f\"ณ เวลานี้ {time1} ถึง {time2} ต่างกันอยู่ {time_diff} วินาที\")"
      ],
      "metadata": {
        "colab": {
          "base_uri": "https://localhost:8080/"
        },
        "id": "fdEkJ-5U-QoN",
        "outputId": "bdff964b-45a3-4c10-c343-5c27677de69b"
      },
      "execution_count": 4,
      "outputs": [
        {
          "output_type": "stream",
          "name": "stdout",
          "text": [
            "ณ เวลานี้ 18:09:10 ถึง 18:25:10 ต่างกันอยู่ 960 วินาที\n",
            "ณ เวลานี้ 13:38:39 ถึง 23:54:39 ต่างกันอยู่ 36960 วินาที\n",
            "ณ เวลานี้ 16:49:58 ถึง 18:05:58 ต่างกันอยู่ 4560 วินาที\n",
            "ณ เวลานี้ 21:49:10 ถึง 22:24:10 ต่างกันอยู่ 2100 วินาที\n",
            "ณ เวลานี้ 08:52:21 ถึง 09:25:21 ต่างกันอยู่ 1980 วินาที\n",
            "ณ เวลานี้ 06:56:26 ถึง 07:49:26 ต่างกันอยู่ 3180 วินาที\n",
            "ณ เวลานี้ 12:08:05 ถึง 12:43:05 ต่างกันอยู่ 2100 วินาที\n",
            "ณ เวลานี้ 01:48:38 ถึง 07:18:38 ต่างกันอยู่ 19800 วินาที\n",
            "ณ เวลานี้ 08:51:21 ถึง 10:17:21 ต่างกันอยู่ 5160 วินาที\n",
            "ณ เวลานี้ 17:05:17 ถึง 18:09:17 ต่างกันอยู่ 3840 วินาที\n"
          ]
        }
      ]
    }
  ]
}