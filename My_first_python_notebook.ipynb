{
  "nbformat": 4,
  "nbformat_minor": 0,
  "metadata": {
    "colab": {
      "provenance": [],
      "authorship_tag": "ABX9TyO/vWr3exT0c+dRA/zegHIs",
      "include_colab_link": true
    },
    "kernelspec": {
      "name": "python3",
      "display_name": "Python 3"
    },
    "language_info": {
      "name": "python"
    }
  },
  "cells": [
    {
      "cell_type": "markdown",
      "metadata": {
        "id": "view-in-github",
        "colab_type": "text"
      },
      "source": [
        "<a href=\"https://colab.research.google.com/github/KanoknatKr/python_dataviz2024/blob/main/My_first_python_notebook.ipynb\" target=\"_parent\"><img src=\"https://colab.research.google.com/assets/colab-badge.svg\" alt=\"Open In Colab\"/></a>"
      ]
    },
    {
      "cell_type": "markdown",
      "source": [
        "Basic Programming for Data Science & Data Visualization\n",
        "here we use **Markdown**"
      ],
      "metadata": {
        "id": "oseSXLTQRrcL"
      }
    },
    {
      "cell_type": "code",
      "execution_count": null,
      "metadata": {
        "id": "7wLjoul6REr7",
        "colab": {
          "base_uri": "https://localhost:8080/"
        },
        "outputId": "f633fdca-5856-40b4-c2dc-744a73f75a6f"
      },
      "outputs": [
        {
          "output_type": "stream",
          "name": "stdout",
          "text": [
            "kanoknat\n"
          ]
        }
      ],
      "source": [
        "print('kanoknat')"
      ]
    },
    {
      "cell_type": "code",
      "source": [
        "print('kruenet')"
      ],
      "metadata": {
        "id": "NHVwvBoSSx0t",
        "outputId": "8964aa4e-4c81-42ba-876a-1dc8dd2b1e74",
        "colab": {
          "base_uri": "https://localhost:8080/"
        }
      },
      "execution_count": null,
      "outputs": [
        {
          "output_type": "stream",
          "name": "stdout",
          "text": [
            "kruenet\n"
          ]
        }
      ]
    }
  ]
}